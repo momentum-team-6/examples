{
 "cells": [
  {
   "cell_type": "code",
   "execution_count": null,
   "metadata": {},
   "outputs": [],
   "source": [
    "import math\n",
    "import random"
   ]
  },
  {
   "cell_type": "markdown",
   "metadata": {},
   "source": [
    "## List comprehensions"
   ]
  },
  {
   "cell_type": "markdown",
   "metadata": {},
   "source": [
    "List comprehensions allow us to _transform_ an iterable's values through another function or _filter_ those values, returning a list."
   ]
  },
  {
   "cell_type": "code",
   "execution_count": null,
   "metadata": {},
   "outputs": [],
   "source": [
    "names = ['Rowan', 'Oz', 'Shannon', 'Meredith']\n",
    "lowercase_names = []\n",
    "for name in names:\n",
    "    lowercase_names.append(name.lower())\n",
    "print(lowercase_names)"
   ]
  },
  {
   "cell_type": "code",
   "execution_count": null,
   "metadata": {},
   "outputs": [],
   "source": [
    "output = []\n",
    "for x in range(10):\n",
    "    output.append(pow(2, x))\n",
    "print(output)"
   ]
  },
  {
   "cell_type": "code",
   "execution_count": null,
   "metadata": {},
   "outputs": [],
   "source": [
    "# Powers of 2\n",
    "[pow(2, x) for x in range(10)]"
   ]
  },
  {
   "cell_type": "code",
   "execution_count": null,
   "metadata": {},
   "outputs": [],
   "source": [
    "# 5 random numbers\n",
    "[random.random() for _ in range(5)]"
   ]
  },
  {
   "cell_type": "markdown",
   "metadata": {},
   "source": [
    "**How did `_` work above?** We can use `_` as a variable name when we don't care about the value.\n",
    "\n",
    "## Comprehension parts\n",
    "\n",
    "Every comprehension is made up of the following parts:\n",
    "\n",
    "1. collection\n",
    "2. iteration\n",
    "3. selection (optional)\n",
    "\n",
    "Let's look at the previous ones for examples:\n",
    "\n",
    "```py\n",
    "[\n",
    " pow(2, x)           # collection\n",
    " for x in range(10)  # iteration\n",
    "]\n",
    "```\n",
    "\n",
    "```py\n",
    "[\n",
    " random.random()    # collection\n",
    " for _ in range(5)  # iteration\n",
    "]\n",
    "```\n",
    "\n",
    "*Iteration* is straightforward and not really that different from the `for` loops you've been using. It iterates over a sequence.\n",
    "\n",
    "*Collection* is the value that will be collected into the new list.\n",
    "\n",
    "What's selection?\n",
    "\n",
    "```py\n",
    "[\n",
    " pow(2, x)           # collection\n",
    " for x in range(10)  # iteration\n",
    " if x % 2 == 0       # selection\n",
    "]\n",
    "```\n",
    "\n",
    "*Selection* filters what you use from iteration. In this case, only even numbers will be used. We iterate over the entire range, but only collect when the value `x` is even."
   ]
  },
  {
   "cell_type": "code",
   "execution_count": null,
   "metadata": {},
   "outputs": [],
   "source": [
    "[\n",
    " pow(2, x)           # collection\n",
    " for x in range(10)  # iteration\n",
    " if x % 2 == 0       # selection\n",
    "]"
   ]
  },
  {
   "cell_type": "code",
   "execution_count": null,
   "metadata": {},
   "outputs": [],
   "source": [
    "# All squares in the first 1000 numbers.\n",
    "squares = [x\n",
    "           for x in range(1000) \n",
    "           if math.sqrt(x).is_integer()]\n",
    "print(squares)"
   ]
  },
  {
   "cell_type": "code",
   "execution_count": 10,
   "metadata": {},
   "outputs": [
    {
     "data": {
      "text/plain": [
       "['_', 'A', 'G', '_', '_', 'T', '_', '_', '_', '_', 'A', '_']"
      ]
     },
     "execution_count": 10,
     "metadata": {},
     "output_type": "execute_result"
    }
   ],
   "source": [
    "word = \"MAGNITUDINAL\"\n",
    "current_guesses = [\"G\", \"E\", \"T\", \"A\"]\n",
    "\n",
    "def display_letter(letter, guesses):\n",
    "    \"\"\"\n",
    "    Conditionally display a letter. If the letter is already in\n",
    "    the list `guesses`, then return it. Otherwise, return \"_\".\n",
    "    \"\"\"\n",
    "    if letter in guesses:\n",
    "        return letter\n",
    "    else:\n",
    "        return \"_\"\n",
    "\n",
    "[display_letter(letter, current_guesses)\n",
    " for letter in word]"
   ]
  },
  {
   "cell_type": "code",
   "execution_count": 11,
   "metadata": {},
   "outputs": [
    {
     "name": "stdout",
     "output_type": "stream",
     "text": [
      "['_', 'A', 'G', '_', '_', 'T', '_', '_', '_', '_', 'A', '_']\n"
     ]
    }
   ],
   "source": [
    "# Compare to not using a list comprehension\n",
    "\n",
    "word = \"MAGNITUDINAL\"\n",
    "current_guesses = [\"G\", \"E\", \"T\", \"A\"]\n",
    "\n",
    "def display_letter(letter, guesses):\n",
    "    \"\"\"\n",
    "    Conditionally display a letter. If the letter is already in\n",
    "    the list `guesses`, then return it. Otherwise, return \"_\".\n",
    "    \"\"\"\n",
    "    if letter in guesses:\n",
    "        return letter\n",
    "    else:\n",
    "        return \"_\"\n",
    "    \n",
    "output = []\n",
    "for letter in word:\n",
    "    output.append(display_letter(letter, current_guesses))\n",
    "print(output)"
   ]
  },
  {
   "cell_type": "code",
   "execution_count": 12,
   "metadata": {},
   "outputs": [
    {
     "data": {
      "text/plain": [
       "['_', '_', 'G', '_', '_', 'T', '_', '_', 'E']"
      ]
     },
     "execution_count": 12,
     "metadata": {},
     "output_type": "execute_result"
    }
   ],
   "source": [
    "word = \"MAGNITUDE\"\n",
    "guesses = [\"G\", \"E\", \"T\"]\n",
    "\n",
    "[letter if letter in guesses else \"_\" \n",
    " for letter in word]"
   ]
  },
  {
   "cell_type": "code",
   "execution_count": 13,
   "metadata": {},
   "outputs": [
    {
     "name": "stdout",
     "output_type": "stream",
     "text": [
      "_ _ G _ _ T _ _ E\n"
     ]
    }
   ],
   "source": [
    "def print_word(word, guesses):\n",
    "    output_letters = [display_letter(letter, guesses) \n",
    "                      for letter in word]\n",
    "    print(\" \".join(output_letters))\n",
    "    \n",
    "print_word(word, guesses)"
   ]
  },
  {
   "cell_type": "code",
   "execution_count": 14,
   "metadata": {},
   "outputs": [
    {
     "data": {
      "text/plain": [
       "['N', 'E', 'E', 'S', 'S', 'T']"
      ]
     },
     "execution_count": 14,
     "metadata": {},
     "output_type": "execute_result"
    }
   ],
   "source": [
    "# word = \"MAGNITUDE\"\n",
    "# guesses = [\"G\", \"E\", \"T\"]\n",
    "word = \"NECESSITY\"\n",
    "guesses = [\"E\", \"T\", \"S\", \"N\"]\n",
    "\n",
    "[letter\n",
    " for letter in word\n",
    " if letter in guesses]"
   ]
  },
  {
   "cell_type": "code",
   "execution_count": 17,
   "metadata": {},
   "outputs": [
    {
     "name": "stdout",
     "output_type": "stream",
     "text": [
      "['Craig Brunengraber', 'Chinh Le', 'Christian Medlin']\n"
     ]
    }
   ],
   "source": [
    "with open(\"students.txt\") as students_file:\n",
    "    print([student.rstrip()\n",
    "           for student in students_file.readlines() \n",
    "           if student.startswith(\"C\")])"
   ]
  },
  {
   "cell_type": "code",
   "execution_count": 18,
   "metadata": {},
   "outputs": [
    {
     "data": {
      "text/plain": [
       "['Tehran', 'axolotl']"
      ]
     },
     "execution_count": 18,
     "metadata": {},
     "output_type": "execute_result"
    }
   ],
   "source": [
    "words = [\"cool\", \"indubitably\", \"Tehran\", \n",
    "         \"pineapple\", \"axolotl\", \"hamburger\", \"squat\"]\n",
    "\n",
    "[\n",
    "    word                                 # collection\n",
    "    for word in words                    # iteration\n",
    "    if len(word) >= 6 and len(word) <= 8 # selection\n",
    "]"
   ]
  },
  {
   "cell_type": "markdown",
   "metadata": {},
   "source": [
    "### Advanced list comprehensions\n",
    "\n",
    "List comprehensions can be nested. You can have a comprehension inside the collection or iteration stages of another comprehension. There's no reason you couldn't use one inside the selection stage, although I've never seen it."
   ]
  },
  {
   "cell_type": "code",
   "execution_count": 32,
   "metadata": {},
   "outputs": [
    {
     "name": "stdout",
     "output_type": "stream",
     "text": [
      "[4, 4, 1, 3, 5, 4]\n"
     ]
    },
    {
     "data": {
      "text/plain": [
       "[4, 4, 5, 4]"
      ]
     },
     "execution_count": 32,
     "metadata": {},
     "output_type": "execute_result"
    }
   ],
   "source": [
    "# Roll 6 dice, keep all 4 and above.\n",
    "\n",
    "random.seed(0)\n",
    "rolls = [random.randint(1,6)    # Iteration for the outer comprehension, collection for the inner comprehension \n",
    "         for _ in range(6)]\n",
    "print(rolls)\n",
    "[die \n",
    " for die in rolls\n",
    " if die >= 4]"
   ]
  },
  {
   "cell_type": "code",
   "execution_count": 23,
   "metadata": {},
   "outputs": [
    {
     "data": {
      "text/plain": [
       "[4, 4, 5]"
      ]
     },
     "execution_count": 23,
     "metadata": {},
     "output_type": "execute_result"
    }
   ],
   "source": [
    "# Roll 6 dice, keep all 4 and above. -- using nested list comprehensions\n",
    "\n",
    "[die \n",
    " for die in [random.randint(1,6)    # Iteration for the outer comprehension, collection for the inner comprehension \n",
    "             for _ in range(6)] \n",
    " if die >= 4]"
   ]
  },
  {
   "cell_type": "code",
   "execution_count": 33,
   "metadata": {},
   "outputs": [
    {
     "data": {
      "text/plain": [
       "[[1, 4, 7], [2, 5, 8], [3, 6, 9]]"
      ]
     },
     "execution_count": 33,
     "metadata": {},
     "output_type": "execute_result"
    }
   ],
   "source": [
    "# Transpose rows and columns using nested list comprehensions.\n",
    "matrix = [[1, 2, 3],\n",
    "          [4, 5, 6],\n",
    "          [7, 8, 9]]\n",
    "\n",
    "[[row[i]                         # All of this is collection for the outer list comprehension\n",
    "  for row in matrix]             # This is collection for outer and iteration for inner\n",
    "  for i in range(len(matrix[0]))] # Outer iteration"
   ]
  },
  {
   "cell_type": "markdown",
   "metadata": {},
   "source": [
    "The iteration stage of the comprehension can iterate over multiple sequences."
   ]
  },
  {
   "cell_type": "code",
   "execution_count": 34,
   "metadata": {},
   "outputs": [
    {
     "name": "stdout",
     "output_type": "stream",
     "text": [
      "[(0, 0), (0, 1), (0, 2), (0, 3), (0, 4), (0, 5), (1, 0), (1, 1), (1, 2), (1, 3), (1, 4), (1, 5), (2, 0), (2, 1), (2, 2), (2, 3), (2, 4), (2, 5), (3, 0), (3, 1), (3, 2), (3, 3), (3, 4), (3, 5), (4, 0), (4, 1), (4, 2), (4, 3), (4, 4), (4, 5), (5, 0), (5, 1), (5, 2), (5, 3), (5, 4), (5, 5)]\n"
     ]
    }
   ],
   "source": [
    "# Get a cartesian product of multiple iterables.\n",
    "max_x = 5\n",
    "max_y = 5\n",
    "\n",
    "all_coordinates = [(x, y)\n",
    "                   for x in range(max_x + 1) \n",
    "                   for y in range(max_y + 1)]\n",
    "print(all_coordinates)"
   ]
  },
  {
   "cell_type": "code",
   "execution_count": 35,
   "metadata": {},
   "outputs": [
    {
     "name": "stdout",
     "output_type": "stream",
     "text": [
      "[('Blake', 'Justice'), ('Blake', 'Kai'), ('Blake', 'Rowan'), ('Justice', 'Blake'), ('Justice', 'Kai'), ('Justice', 'Rowan'), ('Kai', 'Blake'), ('Kai', 'Justice'), ('Kai', 'Rowan'), ('Rowan', 'Blake'), ('Rowan', 'Justice'), ('Rowan', 'Kai')]\n"
     ]
    }
   ],
   "source": [
    "# All student pairings\n",
    "students = [\"Blake\", \"Justice\", \"Kai\", \"Rowan\"]\n",
    "possible_pairings = [(s1, s2) \n",
    "                     for s1 in students \n",
    "                     for s2 in students \n",
    "                     if s1 is not s2]\n",
    "print(possible_pairings)"
   ]
  },
  {
   "cell_type": "code",
   "execution_count": 40,
   "metadata": {},
   "outputs": [
    {
     "name": "stdout",
     "output_type": "stream",
     "text": [
      "[('Blake', 'Justice'), ('Blake', 'Kai'), ('Blake', 'Rowan'), ('Justice', 'Blake'), ('Justice', 'Kai'), ('Justice', 'Rowan'), ('Kai', 'Blake'), ('Kai', 'Justice'), ('Kai', 'Rowan'), ('Rowan', 'Blake'), ('Rowan', 'Justice'), ('Rowan', 'Kai')]\n"
     ]
    }
   ],
   "source": [
    "students = [\"Blake\", \"Justice\", \"Kai\", \"Rowan\"]\n",
    "possible_pairings = []\n",
    "for s1 in students:\n",
    "    for s2 in students:\n",
    "        if s1 is not s2:\n",
    "            possible_pairings.append((s1, s2))\n",
    "print(possible_pairings)"
   ]
  },
  {
   "cell_type": "markdown",
   "metadata": {},
   "source": [
    "This isn't exactly what I want, but we'll come back to it."
   ]
  },
  {
   "cell_type": "markdown",
   "metadata": {},
   "source": [
    "## Dictionary comprehensions"
   ]
  },
  {
   "cell_type": "markdown",
   "metadata": {},
   "source": [
    "Dictionary comprehensions work like list comprehensions, but create dictionaries. You use curly braces on the outside and a colon to separate the key and value."
   ]
  },
  {
   "cell_type": "code",
   "execution_count": null,
   "metadata": {},
   "outputs": [],
   "source": [
    "# Get a mapping of letters to Unicode values.\n",
    "\n",
    "{letter: ord(letter) for letter in \"abcdef\"}"
   ]
  },
  {
   "cell_type": "code",
   "execution_count": null,
   "metadata": {},
   "outputs": [],
   "source": [
    "# Get a mapping of letters to their frequency.\n",
    "\n",
    "sentence = \"hello there pardner\"\n",
    "{letter: sentence.count(letter) \n",
    " for letter in sentence \n",
    " if letter is not \" \"}"
   ]
  },
  {
   "cell_type": "code",
   "execution_count": null,
   "metadata": {},
   "outputs": [],
   "source": [
    "# Map students to their grades.\n",
    "\n",
    "students = [\"Marion\", \"Sawyer\", \"Hayden\"]\n",
    "test_scores = [[87, 91, 79], [92, 90, 85], [90, 93, 82]]\n",
    "\n",
    "{student: [test[idx] for test in test_scores] \n",
    " for (idx, student) in enumerate(students)}"
   ]
  },
  {
   "cell_type": "code",
   "execution_count": null,
   "metadata": {},
   "outputs": [],
   "source": [
    "# What days are we open?\n",
    "\n",
    "open_hours = {\"Sunday\": [900, 1730], \n",
    "              \"Monday\": [], \n",
    "              \"Tuesday\": [900, 2130], \n",
    "              \"Wednesday\": [900, 2130]}\n",
    "{day_of_week: times for day_of_week, times in open_hours.items() if len(times) == 2}"
   ]
  },
  {
   "cell_type": "markdown",
   "metadata": {},
   "source": [
    "## Set comprehensions"
   ]
  },
  {
   "cell_type": "markdown",
   "metadata": {},
   "source": [
    "Sets are another type of sequence we haven't discussed. They are _unordered_ sequences of unique items. Each item must be _hashable_ -- that is, it can't be mutable, so lists and dictionaries are out. Numbers, strings, and tuples are in. Amazingly, sets are also out, as they're mutable, so no sets of sets!\n",
    "\n",
    "There's a function called `frozenset()` to make an immutable set, so you can nest them."
   ]
  },
  {
   "cell_type": "code",
   "execution_count": null,
   "metadata": {},
   "outputs": [],
   "source": [
    "# There can be only one (1).\n",
    "{1, 2, 3, 4, 1}"
   ]
  },
  {
   "cell_type": "code",
   "execution_count": null,
   "metadata": {},
   "outputs": [],
   "source": [
    "# Unique letters\n",
    "{letter for letter in \"howdy there pardner\" if letter is not \" \"}"
   ]
  },
  {
   "cell_type": "code",
   "execution_count": null,
   "metadata": {},
   "outputs": [],
   "source": [
    "set(list(\"howdy there pardner\"))"
   ]
  },
  {
   "cell_type": "markdown",
   "metadata": {},
   "source": [
    "Let's solve that problem of getting unique student pairings now."
   ]
  },
  {
   "cell_type": "code",
   "execution_count": null,
   "metadata": {},
   "outputs": [],
   "source": [
    "# All student pairings\n",
    "students = [\"Blake\", \"Justice\", \"Kai\", \"Rowan\", \"Marion\", \"Hunter\"]\n",
    "possible_pairings = {frozenset([s1, s2]) \n",
    "                     for s1 in students \n",
    "                     for s2 in students \n",
    "                     if s1 is not s2}\n",
    "print([set(pair) for pair in possible_pairings])\n",
    "print(len(possible_pairings))"
   ]
  },
  {
   "cell_type": "markdown",
   "metadata": {},
   "source": [
    "Why did we use `frozenset()`?"
   ]
  },
  {
   "cell_type": "code",
   "execution_count": null,
   "metadata": {},
   "outputs": [],
   "source": [
    "type({1, 2})"
   ]
  },
  {
   "cell_type": "code",
   "execution_count": null,
   "metadata": {},
   "outputs": [],
   "source": [
    "type(frozenset([1, 2]))"
   ]
  }
 ],
 "metadata": {
  "kernelspec": {
   "display_name": "Python 3",
   "language": "python",
   "name": "python3"
  },
  "language_info": {
   "codemirror_mode": {
    "name": "ipython",
    "version": 3
   },
   "file_extension": ".py",
   "mimetype": "text/x-python",
   "name": "python",
   "nbconvert_exporter": "python",
   "pygments_lexer": "ipython3",
   "version": "3.7.4"
  }
 },
 "nbformat": 4,
 "nbformat_minor": 1
}
