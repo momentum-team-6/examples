{
 "cells": [
  {
   "cell_type": "code",
   "execution_count": 2,
   "metadata": {
    "collapsed": true
   },
   "outputs": [],
   "source": [
    "import csv"
   ]
  },
  {
   "cell_type": "code",
   "execution_count": 5,
   "metadata": {
    "collapsed": false
   },
   "outputs": [
    {
     "name": "stdout",
     "output_type": "stream",
     "text": [
      "['id', 'student', 'grade']\n",
      "---\n",
      "['1', 'Hunter', 'A']\n",
      "['2', 'Grey', 'B']\n",
      "['3', 'Elliot', 'C']\n",
      "['4', 'Kerry', 'B']\n",
      "['5', 'Marion', 'D']\n"
     ]
    }
   ],
   "source": [
    "with open(\"students.csv\") as file:\n",
    "    reader = csv.reader(file)\n",
    "    headers = next(reader)\n",
    "    print(headers)\n",
    "    print(\"---\")\n",
    "    for row in reader:\n",
    "        print(row)"
   ]
  },
  {
   "cell_type": "code",
   "execution_count": 15,
   "metadata": {
    "collapsed": false
   },
   "outputs": [
    {
     "name": "stdout",
     "output_type": "stream",
     "text": [
      "{'student': 'Hunter', 'grade': 'A', 'id': '1'}\n",
      "{'student': 'Grey', 'grade': 'B', 'id': '2'}\n",
      "{'student': 'Elliot', 'grade': 'C', 'id': '3'}\n",
      "{'student': 'Kerry', 'grade': 'B', 'id': '4'}\n",
      "{'student': 'Marion', 'grade': 'D', 'id': '5'}\n"
     ]
    }
   ],
   "source": [
    "with open(\"students.csv\") as file:\n",
    "    reader = csv.DictReader(file)\n",
    "    for row in reader:\n",
    "        print(row)"
   ]
  },
  {
   "cell_type": "code",
   "execution_count": 18,
   "metadata": {
    "collapsed": false
   },
   "outputs": [
    {
     "name": "stdout",
     "output_type": "stream",
     "text": [
      "{'topic_id': '2', 'student_id': '1'}\n",
      "{'topic_id': '3', 'student_id': '1'}\n",
      "{'topic_id': '4', 'student_id': '2'}\n",
      "{'topic_id': '1', 'student_id': '2'}\n",
      "{'topic_id': '5', 'student_id': '2'}\n",
      "{'topic_id': '2', 'student_id': '3'}\n",
      "{'topic_id': '4', 'student_id': '3'}\n"
     ]
    }
   ],
   "source": [
    "with open(\"student_topics.csv\") as file:\n",
    "    reader = csv.DictReader(file, delimiter=\"|\")\n",
    "    for row in reader:\n",
    "        print(row)"
   ]
  },
  {
   "cell_type": "code",
   "execution_count": null,
   "metadata": {
    "collapsed": true
   },
   "outputs": [],
   "source": []
  }
 ],
 "metadata": {
  "kernelspec": {
   "display_name": "Python 3",
   "language": "python",
   "name": "python3"
  },
  "language_info": {
   "codemirror_mode": {
    "name": "ipython",
    "version": 3
   },
   "file_extension": ".py",
   "mimetype": "text/x-python",
   "name": "python",
   "nbconvert_exporter": "python",
   "pygments_lexer": "ipython3",
   "version": "3.4.3"
  }
 },
 "nbformat": 4,
 "nbformat_minor": 0
}
